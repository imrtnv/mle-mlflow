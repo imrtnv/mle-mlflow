{
 "cells": [
  {
   "cell_type": "code",
   "execution_count": null,
   "metadata": {},
   "outputs": [],
   "source": [
    "import os\n",
    "\n",
    "import psycopg\n",
    "import pandas as pd\n",
    "import matplotlib.pyplot as plt\n",
    "import seaborn as sns\n",
    "import mlflow\n",
    "from dotenv import load_dotenv, find_dotenv"
   ]
  },
  {
   "cell_type": "code",
   "execution_count": null,
   "metadata": {},
   "outputs": [],
   "source": [
    "# подгружаем .env\n",
    "load_dotenv()"
   ]
  },
  {
   "cell_type": "code",
   "execution_count": null,
   "metadata": {},
   "outputs": [],
   "source": [
    "TABLE_NAME = \"users_churn\" # таблица с данными в postgres \n",
    "\n",
    "EXPERIMENT_NAME = \"churn_experiment_imartnv\"\n",
    "RUN_NAME = \"eda\"\n",
    "\n",
    "# Директория для хранения артефактов\n",
    "ASSETS_DIR = \"assets\"\n",
    "\n",
    "os.makedirs(ASSETS_DIR, exist_ok=True)\n",
    "\n",
    "# Настрофка отображения\n",
    "pd.options.display.max_columns = 100\n",
    "pd.options.display.max_rows = 64\n",
    "\n",
    "sns.set_style(\"white\")\n",
    "sns.set_theme(style=\"whitegrid\") "
   ]
  },
  {
   "cell_type": "code",
   "execution_count": null,
   "metadata": {},
   "outputs": [],
   "source": [
    "# Подключение к базе и получение данных\n",
    "connection = {\"sslmode\": \"require\", \"target_session_attrs\": \"read-write\"}\n",
    "postgres_credentials = {\n",
    "    \"host\": os.getenv(\"DB_DESTINATION_HOST\"),\n",
    "    \"port\": os.getenv(\"DB_DESTINATION_PORT\"),\n",
    "    \"dbname\": os.getenv(\"DB_DESTINATION_NAME\"),\n",
    "    \"user\": os.getenv(\"DB_DESTINATION_USER\"),\n",
    "    \"password\": os.getenv(\"DB_DESTINATION_PASSWORD\"),\n",
    "}\n",
    "\n",
    "connection.update(postgres_credentials)\n",
    "\n",
    "with psycopg.connect(**connection) as conn:\n",
    "\n",
    "    with conn.cursor() as cur:\n",
    "        cur.execute(f\"SELECT * FROM {TABLE_NAME}\")\n",
    "        data = cur.fetchall()\n",
    "        columns = [col[0] for col in cur.description]\n",
    "\n",
    "df = pd.DataFrame(data, columns=columns)"
   ]
  },
  {
   "cell_type": "code",
   "execution_count": null,
   "metadata": {},
   "outputs": [],
   "source": [
    "df.head(2)"
   ]
  },
  {
   "cell_type": "code",
   "execution_count": null,
   "metadata": {},
   "outputs": [],
   "source": [
    "# Настройки для графиков\n",
    "fig, axs = plt.subplots(2, 2, figsize=(12, 8))\n",
    "fig.set_size_inches(12, 8, forward=True) \n",
    "fig.tight_layout(pad=2)\n",
    "\n",
    "# Первый график\n",
    "x = \"type\"\n",
    "y = \"customer_id\"\n",
    "stat = [\"count\"]\n",
    "\n",
    "agg_df = df.groupby(x)[y].agg(stat).reset_index()\n",
    "\n",
    "sns.barplot(data=agg_df, x=x, y=stat[0], ax=axs[0, 0]) \n",
    "axs[0, 0].set_title(f'Count {y} by {x} in train dataframe')\n",
    "\n",
    "# Второй график\n",
    "x = \"payment_method\"\n",
    "y = \"customer_id\"\n",
    "stat = [\"count\"]\n",
    "\n",
    "agg_df = df.groupby(x)[y].agg(stat).reset_index()\n",
    "\n",
    "sns.barplot(data=agg_df, x=x, y=stat[0], ax=axs[1, 0]) \n",
    "axs[1, 0].set_title(f'Count {y} by {x} in train dataframe')\n",
    "axs[1, 0].set_xticklabels(agg_df[x], rotation=40)  # Используем данные из agg_df для меток\n",
    "\n",
    "\n",
    "# Третий график\n",
    "x = \"internet_service\"\n",
    "y = \"customer_id\"\n",
    "stat = [\"count\"]\n",
    "\n",
    "agg_df = df.groupby(x)[y].agg(stat).reset_index()\n",
    "\n",
    "sns.barplot(data=agg_df, x=x, y=stat[0], ax=axs[0, 1]) \n",
    "axs[0, 1].set_title(f'Count {y} by {x} in train dataframe')\n",
    "axs[0, 1].set_xticklabels(agg_df[x], rotation=30)  # Используем данные из agg_df для меток\n",
    "\n",
    "\n",
    "# Чертвертый график\n",
    "x = \"gender\"\n",
    "y = \"customer_id\"\n",
    "stat = [\"count\"]\n",
    "\n",
    "agg_df = df.groupby(x)[y].agg(stat).reset_index()\n",
    "\n",
    "sns.barplot(data=agg_df, x=x, y=stat[0], ax=axs[1, 1]) \n",
    "axs[1, 1].set_title(f'Count {y} by {x} in train dataframe')\n",
    "axs[1, 1].set_xticklabels(agg_df[x], rotation=30)  # Используем данные из agg_df для меток\n",
    "\n",
    "\n",
    "plt.savefig(os.path.join(ASSETS_DIR, 'cat_features_1'))"
   ]
  },
  {
   "cell_type": "code",
   "execution_count": null,
   "metadata": {},
   "outputs": [],
   "source": [
    "from sklearn.preprocessing import OneHotEncoder, LabelEncoder\n",
    "encoder = LabelEncoder()"
   ]
  },
  {
   "cell_type": "code",
   "execution_count": null,
   "metadata": {},
   "outputs": [],
   "source": [
    "x = \"customer_id\"\n",
    "binary_columns = [\n",
    "    \"online_security\", \n",
    "    \"online_backup\", \n",
    "    \"device_protection\", \n",
    "    \"tech_support\",\n",
    "    \"streaming_tv\",\n",
    "    \"streaming_movies\",\n",
    "    \"senior_citizen\",\n",
    "    \"partner\",\n",
    "    \"dependents\",\n",
    "    \"multiple_lines\",\n",
    "    \"paperless_billing\"\n",
    "]\n",
    "stat = [\"count\"]\n",
    "\n",
    "print(df.groupby(binary_columns).agg(stat[0])[x].reset_index().sort_values(by=x, ascending=False).head(5))"
   ]
  },
  {
   "cell_type": "code",
   "execution_count": null,
   "metadata": {},
   "outputs": [],
   "source": [
    "for column in binary_columns:\n",
    "    df[column] = encoder.fit_transform(df[column].fillna(\"No\"))"
   ]
  },
  {
   "cell_type": "code",
   "execution_count": null,
   "metadata": {},
   "outputs": [],
   "source": [
    "df.head()"
   ]
  },
  {
   "cell_type": "code",
   "execution_count": null,
   "metadata": {},
   "outputs": [],
   "source": [
    "heart_map = df[binary_columns].apply(pd.Series.value_counts).T"
   ]
  },
  {
   "cell_type": "code",
   "execution_count": null,
   "metadata": {},
   "outputs": [],
   "source": [
    "sns.heatmap(heart_map)\n",
    "plt.savefig(os.path.join(ASSETS_DIR, 'cat_features_2'))"
   ]
  },
  {
   "cell_type": "code",
   "execution_count": null,
   "metadata": {},
   "outputs": [],
   "source": [
    "# инициализация переменной для названия колонки\n",
    "x = \"begin_date\"\n",
    "\n",
    "# список колонок, для которых будут вычисляться статистики\n",
    "charges_columns = [\n",
    "    \"monthly_charges\",\n",
    "    \"total_charges\",\n",
    "]\n",
    "\n",
    "# удаление пустых колонок для посчёта медианного значения\n",
    "df.dropna(subset=charges_columns, how='any', inplace=True)\n",
    "\n",
    "stats = [\"mean\", \"median\", lambda x: x.mode().iloc[0]]\n",
    "\n",
    "charges_monthly_agg = df.groupby(x)['monthly_charges'].agg(stats).reset_index()\n",
    "charges_monthly_agg.columns = [x, \"monthly_mean\", \"monthly_median\", \"monthly_mode\"]\n",
    "\n",
    "charges_total_agg = df.groupby(x)['total_charges'].agg(stats).reset_index()\n",
    "charges_total_agg.columns = [x, \"total_mean\", \"total_median\", \"total_mode\"]"
   ]
  },
  {
   "cell_type": "code",
   "execution_count": null,
   "metadata": {},
   "outputs": [],
   "source": [
    "# создание объекта для отображения графиков (2 графика вертикально)\n",
    "fig, axs = plt.subplots(2, 1)\n",
    "# настройка отступов между графиками\n",
    "fig.tight_layout(pad=2.5)\n",
    "# установка размера фигуры\n",
    "fig.set_size_inches(6.5, 5.5, forward=True)\n",
    "\n",
    "# Построение линейных графиков для ежемесячных платежей\n",
    "for col in [\"monthly_mean\", \"monthly_median\", \"monthly_mode\"]:\n",
    "    sns.lineplot(data=charges_monthly_agg, x=x, y=col, ax=axs[0])\n",
    "\n",
    "# Установка заголовка для верхнего графика\n",
    "axs[0].set_title(f\"Count statistics for {charges_columns[0]} by {x}\")\n",
    "\n",
    "# Построение линейных графиков для общих платежей\n",
    "for col in [\"total_mean\", \"total_median\", \"total_mode\"]:\n",
    "    sns.lineplot(data=charges_total_agg, x=x, y=col, ax=axs[1])\n",
    "\n",
    "# Установка заголовка для нижнего графика\n",
    "axs[1].set_title(f\"Count statistics for {charges_columns[1]} by {x}\")\n",
    "\n",
    "plt.savefig(os.path.join(ASSETS_DIR, 'cat_features_3'))"
   ]
  },
  {
   "cell_type": "code",
   "execution_count": null,
   "metadata": {},
   "outputs": [],
   "source": [
    "x = 'target'\n",
    "stats = ['nunique']"
   ]
  },
  {
   "cell_type": "code",
   "execution_count": null,
   "metadata": {},
   "outputs": [],
   "source": [
    "agg_df = df.groupby(x).agg(stats).reset_index().melt(id_vars=[\"target\"], var_name=\"Feature\", value_name=\"Unique Values\")"
   ]
  },
  {
   "cell_type": "code",
   "execution_count": null,
   "metadata": {},
   "outputs": [],
   "source": [
    "plt.figure(figsize=(12, 6))\n",
    "sns.barplot(\n",
    "    data=agg_df,\n",
    "    x=\"Feature\",\n",
    "    y=\"Unique Values\",\n",
    "    hue=\"target\"\n",
    ")\n",
    "plt.xticks(rotation=45, ha='right')\n",
    "plt.title(\"Количество уникальных значений по target\")\n",
    "plt.ylabel(\"Уникальные значения\")\n",
    "plt.xlabel(\"Признаки\")\n",
    "plt.legend(title=\"Target\", loc=\"upper right\")\n",
    "plt.tight_layout()\n",
    "plt.savefig(os.path.join(ASSETS_DIR, 'cat_features_4'))"
   ]
  },
  {
   "cell_type": "code",
   "execution_count": null,
   "metadata": {},
   "outputs": [],
   "source": [
    "# подсчёт количества каждого уникального значения в колонке и сброс индекса для последующей визуализации\n",
    "target_agg = df[x].value_counts().reset_index()\n",
    "\n",
    "# создание столбчатой диаграммы для визуализации распределения целевой переменной\n",
    "plt.figure(figsize=(12, 6))\n",
    "sns.barplot(data=target_agg, x='target', y='count')\n",
    "plt.xticks(rotation=45, ha='right')\n",
    "plt.title(f\"{x} total distribution\")\n",
    "plt.legend(title=\"Target\", loc=\"upper right\")\n",
    "plt.tight_layout()\n",
    "plt.savefig(os.path.join(ASSETS_DIR, 'cat_features_5'))"
   ]
  },
  {
   "cell_type": "code",
   "execution_count": null,
   "metadata": {},
   "outputs": [],
   "source": [
    "x = \"begin_date\"\n",
    "target = \"target\"\n",
    "# определение статистики для агрегации\n",
    "stat = [\"count\"]\n"
   ]
  },
  {
   "cell_type": "code",
   "execution_count": null,
   "metadata": {},
   "outputs": [],
   "source": [
    "target_agg_by_date = df[df[target]==1].groupby(x)[target].agg(stat).reset_index()\n",
    "# удаление мультиуровневости заголовков после агрегации и переименование для удобства\n",
    "target_agg_by_date.columns = target_agg_by_date.columns\n",
    "target_agg_by_date.columns = [x, \"target_count\"]"
   ]
  },
  {
   "cell_type": "code",
   "execution_count": null,
   "metadata": {},
   "outputs": [],
   "source": [
    "target_agg = df.groupby([x,target])['customer_id'].agg(stat).reset_index()\n",
    "target_agg.columns = [x,target ,\"target_customer_id\"]"
   ]
  },
  {
   "cell_type": "code",
   "execution_count": null,
   "metadata": {},
   "outputs": [],
   "source": [
    "# расчёт суммы и количества для конверсии по датам\n",
    "conversion_agg = df.groupby(x)[target].agg(['count','sum']).reset_index()\n",
    "# вычисление коэффициента конверсии и округление до двух знаков\n",
    "conversion_agg[\"conv\"] = conversion_agg['sum']/conversion_agg['count']"
   ]
  },
  {
   "cell_type": "code",
   "execution_count": null,
   "metadata": {},
   "outputs": [],
   "source": [
    "# аналогичный расчет конверсии, но с дополнительным разделением по полу\n",
    "conversion_agg_gender = df.groupby([x,'gender'])[target].agg(['count','sum']).reset_index()\n",
    "conversion_agg_gender[\"conv\"] = conversion_agg_gender['sum']/conversion_agg_gender['count']"
   ]
  },
  {
   "cell_type": "code",
   "execution_count": null,
   "metadata": {},
   "outputs": [],
   "source": [
    "fig, axs = plt.subplots(2,2)\n",
    "fig.tight_layout(pad=1.6)\n",
    "fig.set_size_inches(16.5, 12.5, forward=True) \n",
    "\n",
    "# визуализация общего количества целей по датам начала\n",
    "sns.lineplot(data=target_agg_by_date, x=x, y='target_count', ax=axs[0, 0])\n",
    "axs[0, 0].set_title(\"Target count by begin date\")\n",
    "\n",
    "\n",
    "# визуализация количества клиентов для каждого типа цели по датам\n",
    "sns.lineplot(data=target_agg, x=x, y=\"target_customer_id\", hue=target, ax=axs[0, 1])\n",
    "axs[0, 1].set_title(\"Target count type by begin date\")\n",
    "\n",
    "# визуализация коэффициента конверсии по датам\n",
    "sns.lineplot(data=conversion_agg, x=x, y=\"conv\", ax=axs[1, 0])\n",
    "axs[1, 0].set_title(\"Conversion value\")\n",
    "\n",
    "\n",
    "# визуализация коэффициента конверсии по датам с разделением по полу\n",
    "sns.lineplot(data=conversion_agg_gender, x=x, y=\"conv\",hue='gender' ,ax=axs[1, 1])\n",
    "axs[1, 1].set_title(\"Conversion value by gender\")\n",
    "\n",
    "plt.savefig(os.path.join(ASSETS_DIR, 'target_by_date'))"
   ]
  },
  {
   "cell_type": "code",
   "execution_count": null,
   "metadata": {},
   "outputs": [],
   "source": [
    "charges = [\"monthly_charges\", \"total_charges\"]\n",
    "target = \"target\""
   ]
  },
  {
   "cell_type": "code",
   "execution_count": null,
   "metadata": {},
   "outputs": [],
   "source": [
    "sns.histplot(data=df, x=charges[0],hue='target', kde=True)"
   ]
  },
  {
   "cell_type": "code",
   "execution_count": null,
   "metadata": {},
   "outputs": [],
   "source": [
    "fig, axs = plt.subplots(2, 1)\n",
    "fig.tight_layout(pad=1.5)  # настройка отступов между подграфиками\n",
    "fig.set_size_inches(6.5, 6.5, forward=True)  # установка размера фигуры\n",
    "\n",
    "sns.histplot(data=df, x=charges[0],hue='target', kde=True, ax=axs[0])\n",
    "axs[0].set_title(f\"{charges[0]} distribution\")\n",
    "\n",
    "sns.histplot(data=df, x=charges[1],hue='target', kde=True, ax=axs[1])\n",
    "axs[1].set_title(f\"{charges[1]} distribution\")\n",
    "\n",
    "plt.savefig(os.path.join(ASSETS_DIR, 'chargest_by_target_dist'))"
   ]
  },
  {
   "cell_type": "code",
   "execution_count": null,
   "metadata": {},
   "outputs": [],
   "source": [
    "ASSETS_DIR = 'assets'\n",
    "\n",
    "mlflow.set_tracking_uri(f\"http://{TRACKING_SERVER_HOST}:{TRACKING_SERVER_PORT}\")\n",
    "mlflow.set_registry_uri(f\"http://{TRACKING_SERVER_HOST}:{TRACKING_SERVER_PORT}\")\n",
    "\n",
    "experiment_id = mlflow.get_experiment_by_name(EXPERIMENT_NAME).experiment_id\n",
    "\n",
    "with mlflow.start_run(run_name=RUN_NAME, experiment_id=experiment_id) as run:\n",
    "    run_id = run.info.run_id\n",
    "    mlflow.log_artifacts(ASSETS_DIR) \n",
    "    \n",
    "print(\"Run ID:\", run_id)"
   ]
  }
 ],
 "metadata": {
  "kernelspec": {
   "display_name": "Python 3.10.12 ('.venv_mle_mlflow': venv)",
   "language": "python",
   "name": "python3"
  },
  "language_info": {
   "codemirror_mode": {
    "name": "ipython",
    "version": 3
   },
   "file_extension": ".py",
   "mimetype": "text/x-python",
   "name": "python",
   "nbconvert_exporter": "python",
   "pygments_lexer": "ipython3",
   "version": "3.10.12"
  },
  "orig_nbformat": 4,
  "vscode": {
   "interpreter": {
    "hash": "3d3d420c415bb1e4ded8deb074a36e773da5522490881136d2c56750521659c2"
   }
  }
 },
 "nbformat": 4,
 "nbformat_minor": 2
}
